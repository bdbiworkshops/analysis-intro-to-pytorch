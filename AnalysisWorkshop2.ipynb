{
  "nbformat": 4,
  "nbformat_minor": 0,
  "metadata": {
    "colab": {
      "provenance": [],
      "authorship_tag": "ABX9TyPMu0s3qiHsz7lkP4lHlIJU",
      "include_colab_link": true
    },
    "kernelspec": {
      "name": "python3",
      "display_name": "Python 3"
    },
    "language_info": {
      "name": "python"
    }
  },
  "cells": [
    {
      "cell_type": "markdown",
      "metadata": {
        "id": "view-in-github",
        "colab_type": "text"
      },
      "source": [
        "<a href=\"https://colab.research.google.com/github/bdbiworkshops/analysis-intro-to-pytorch/blob/main/AnalysisWorkshop2.ipynb\" target=\"_parent\"><img src=\"https://colab.research.google.com/assets/colab-badge.svg\" alt=\"Open In Colab\"/></a>"
      ]
    },
    {
      "cell_type": "markdown",
      "source": [
        "# Analysis Workshop 2: Data Preprocessing + Intro to PyTorch!\n",
        "\n",
        "In the first half of this workshop, we will delve into preprocessing methods using Pandas. In the second half we'll use Pytorch to begin creating a neural network to predict the number of rainy days in any given month in Atlanta."
      ],
      "metadata": {
        "id": "ZLtF3YgtL_5o"
      }
    },
    {
      "cell_type": "markdown",
      "source": [
        "## Libraries and Tools:\n",
        "\n",
        "If you need to brush up on some machine learning and numpy + pandas fundamentals, check out our first tutorial using Sklearn here: https://github.com/bdbiworkshops/analysis-bees-vs-wasps/blob/main/AnalysisWorkshop1.ipynb\n",
        "<br><br>\n",
        "For today's workshop, we'll mostly be using Pandas and Pytorch.\n",
        "\n",
        "Pytorch: A machine learning framework that is better adapted for deep learning compared to Sklearn (beginner guide: https://pytorch.org/tutorials/beginner/basics/intro.html)\n",
        "\n",
        "Pandas: Used for easily working with datasets (intro to pandas: https://pandas.pydata.org/docs/user_guide/10min.html)\n",
        "\n",
        "Matplotlib: Widely used data visualization library (examples: https://matplotlib.org/stable/gallery/index.html)\n",
        "\n",
        "Google Colab + Jupyter Notebooks: Software used to easily share code with tools for documentation"
      ],
      "metadata": {
        "id": "4-H65hVzuWjn"
      }
    },
    {
      "cell_type": "markdown",
      "source": [
        "## Imports + Loading Data\n",
        "\n",
        "We will be using weather data recorded at the Hartsfield-Jackson Atlanta International Airport. The dataset was retrieved from the National Oceanic and Atmospheric Administration and is available for download at https://github.com/bdbiworkshops/analysis-intro-to-pytorch/blob/main/3474978.csv."
      ],
      "metadata": {
        "id": "qoTBps2122zN"
      }
    },
    {
      "cell_type": "code",
      "source": [
        "## imports\n",
        "import torch\n",
        "from torch import nn\n",
        "import pandas as pd\n",
        "from sklearn.model_selection import train_test_split\n"
      ],
      "metadata": {
        "id": "DymdvyNix3KM"
      },
      "execution_count": null,
      "outputs": []
    },
    {
      "cell_type": "code",
      "source": [
        "%%bash\n",
        "git clone https://github.com/bdbiworkshops/analysis-intro-to-pytorch.git"
      ],
      "metadata": {
        "id": "95YIgM2J26d9",
        "colab": {
          "base_uri": "https://localhost:8080/"
        },
        "outputId": "c842066f-0340-4c03-ab82-8ddd716e223e"
      },
      "execution_count": null,
      "outputs": [
        {
          "output_type": "stream",
          "name": "stderr",
          "text": [
            "Cloning into 'analysis-intro-to-pytorch'...\n"
          ]
        }
      ]
    },
    {
      "cell_type": "code",
      "source": [
        "file = '/content/analysis-intro-to-pytorch/3474978.csv'\n",
        "data = pd.read_csv(file)"
      ],
      "metadata": {
        "colab": {
          "base_uri": "https://localhost:8080/"
        },
        "id": "hrJdZjHaxlcg",
        "outputId": "8fd61717-6e11-47a9-dca9-555a4969f6e2"
      },
      "execution_count": null,
      "outputs": [
        {
          "output_type": "stream",
          "name": "stderr",
          "text": [
            "<ipython-input-3-fd1ada61f91f>:2: DtypeWarning: Columns (35,36,42,43,44,50,52,74,76,77,90) have mixed types. Specify dtype option on import or set low_memory=False.\n",
            "  data = pd.read_csv(file)\n"
          ]
        }
      ]
    },
    {
      "cell_type": "markdown",
      "source": [
        "## Data Preprocessing"
      ],
      "metadata": {
        "id": "tfoCbunUDfuT"
      }
    },
    {
      "cell_type": "code",
      "source": [
        "# [LIVE] prints first 5 lines of dataset, but omitts columns for space"
      ],
      "metadata": {
        "colab": {
          "base_uri": "https://localhost:8080/"
        },
        "id": "sIGZwGmuDqk3",
        "outputId": "9d3d879e-319f-4094-bf09-a62f4280102a"
      },
      "execution_count": null,
      "outputs": [
        {
          "output_type": "stream",
          "name": "stdout",
          "text": [
            "       STATION                 DATE REPORT_TYPE  SOURCE  AWND  \\\n",
            "0  72219013874  2018-01-01T00:52:00       FM-15       7   NaN   \n",
            "1  72219013874  2018-01-01T01:00:00       FM-12       4   NaN   \n",
            "2  72219013874  2018-01-01T01:52:00       FM-15       7   NaN   \n",
            "3  72219013874  2018-01-01T02:34:00       FM-16       7   NaN   \n",
            "4  72219013874  2018-01-01T02:52:00       FM-15       7   NaN   \n",
            "\n",
            "   BackupDirection  BackupDistance  BackupDistanceUnit  BackupElements  \\\n",
            "0              NaN             NaN                 NaN             NaN   \n",
            "1              NaN             NaN                 NaN             NaN   \n",
            "2              NaN             NaN                 NaN             NaN   \n",
            "3              NaN             NaN                 NaN             NaN   \n",
            "4              NaN             NaN                 NaN             NaN   \n",
            "\n",
            "   BackupElevation  ...  ShortDurationPrecipitationValue045  \\\n",
            "0              NaN  ...                                 NaN   \n",
            "1              NaN  ...                                 NaN   \n",
            "2              NaN  ...                                 NaN   \n",
            "3              NaN  ...                                 NaN   \n",
            "4              NaN  ...                                 NaN   \n",
            "\n",
            "   ShortDurationPrecipitationValue060  ShortDurationPrecipitationValue080  \\\n",
            "0                                 NaN                                 NaN   \n",
            "1                                 NaN                                 NaN   \n",
            "2                                 NaN                                 NaN   \n",
            "3                                 NaN                                 NaN   \n",
            "4                                 NaN                                 NaN   \n",
            "\n",
            "   ShortDurationPrecipitationValue100  ShortDurationPrecipitationValue120  \\\n",
            "0                                 NaN                                 NaN   \n",
            "1                                 NaN                                 NaN   \n",
            "2                                 NaN                                 NaN   \n",
            "3                                 NaN                                 NaN   \n",
            "4                                 NaN                                 NaN   \n",
            "\n",
            "   ShortDurationPrecipitationValue150  ShortDurationPrecipitationValue180  \\\n",
            "0                                 NaN                                 NaN   \n",
            "1                                 NaN                                 NaN   \n",
            "2                                 NaN                                 NaN   \n",
            "3                                 NaN                                 NaN   \n",
            "4                                 NaN                                 NaN   \n",
            "\n",
            "   Sunrise  Sunset  WindEquipmentChangeDate  \n",
            "0      NaN     NaN               2007-03-27  \n",
            "1      NaN     NaN               2007-03-27  \n",
            "2      NaN     NaN               2007-03-27  \n",
            "3      NaN     NaN               2007-03-27  \n",
            "4      NaN     NaN               2007-03-27  \n",
            "\n",
            "[5 rows x 124 columns]\n"
          ]
        }
      ]
    },
    {
      "cell_type": "code",
      "source": [
        "## regular .head() only shows us 20 out of the 124 columns\n",
        "## instead, we'll set a parameter 'display.max_columns' to None (as in, no column restrictions) to help us see all the columns\n",
        "\n",
        "pd.set_option('display.max_columns', None) #displays first 5 rows with all columns\n",
        "\n",
        "## To print the entire dataset (personally do not recommend - view it in Excel instead)\n",
        "#pd.set_option('display.max_rows', None)\n",
        "#print(data)\n",
        "\n",
        "print(data.head())\n",
        "\n",
        "#[LIVE] gives dataset dimensions in the format (rows, columns)"
      ],
      "metadata": {
        "colab": {
          "base_uri": "https://localhost:8080/"
        },
        "id": "L03sDt8nGf80",
        "outputId": "aa6c5564-dd31-40d4-ad3f-c8c0de686fcc"
      },
      "execution_count": null,
      "outputs": [
        {
          "output_type": "stream",
          "name": "stdout",
          "text": [
            "       STATION                 DATE REPORT_TYPE  SOURCE  AWND  \\\n",
            "0  72219013874  2018-01-01T00:52:00       FM-15       7   NaN   \n",
            "1  72219013874  2018-01-01T01:00:00       FM-12       4   NaN   \n",
            "2  72219013874  2018-01-01T01:52:00       FM-15       7   NaN   \n",
            "3  72219013874  2018-01-01T02:34:00       FM-16       7   NaN   \n",
            "4  72219013874  2018-01-01T02:52:00       FM-15       7   NaN   \n",
            "\n",
            "   BackupDirection  BackupDistance  BackupDistanceUnit  BackupElements  \\\n",
            "0              NaN             NaN                 NaN             NaN   \n",
            "1              NaN             NaN                 NaN             NaN   \n",
            "2              NaN             NaN                 NaN             NaN   \n",
            "3              NaN             NaN                 NaN             NaN   \n",
            "4              NaN             NaN                 NaN             NaN   \n",
            "\n",
            "   BackupElevation  BackupElevationUnit  BackupEquipment  BackupLatitude  \\\n",
            "0              NaN                  NaN              NaN             NaN   \n",
            "1              NaN                  NaN              NaN             NaN   \n",
            "2              NaN                  NaN              NaN             NaN   \n",
            "3              NaN                  NaN              NaN             NaN   \n",
            "4              NaN                  NaN              NaN             NaN   \n",
            "\n",
            "   BackupLongitude  BackupName  CDSD  CLDD  DSNW  DYHF  DYTS  \\\n",
            "0              NaN         NaN   NaN   NaN   NaN   NaN   NaN   \n",
            "1              NaN         NaN   NaN   NaN   NaN   NaN   NaN   \n",
            "2              NaN         NaN   NaN   NaN   NaN   NaN   NaN   \n",
            "3              NaN         NaN   NaN   NaN   NaN   NaN   NaN   \n",
            "4              NaN         NaN   NaN   NaN   NaN   NaN   NaN   \n",
            "\n",
            "   DailyAverageDewPointTemperature  DailyAverageDryBulbTemperature  \\\n",
            "0                              NaN                             NaN   \n",
            "1                              NaN                             NaN   \n",
            "2                              NaN                             NaN   \n",
            "3                              NaN                             NaN   \n",
            "4                              NaN                             NaN   \n",
            "\n",
            "   DailyAverageRelativeHumidity  DailyAverageSeaLevelPressure  \\\n",
            "0                           NaN                           NaN   \n",
            "1                           NaN                           NaN   \n",
            "2                           NaN                           NaN   \n",
            "3                           NaN                           NaN   \n",
            "4                           NaN                           NaN   \n",
            "\n",
            "   DailyAverageStationPressure  DailyAverageWetBulbTemperature  \\\n",
            "0                          NaN                             NaN   \n",
            "1                          NaN                             NaN   \n",
            "2                          NaN                             NaN   \n",
            "3                          NaN                             NaN   \n",
            "4                          NaN                             NaN   \n",
            "\n",
            "   DailyAverageWindSpeed  DailyCoolingDegreeDays  \\\n",
            "0                    NaN                     NaN   \n",
            "1                    NaN                     NaN   \n",
            "2                    NaN                     NaN   \n",
            "3                    NaN                     NaN   \n",
            "4                    NaN                     NaN   \n",
            "\n",
            "   DailyDepartureFromNormalAverageTemperature  DailyHeatingDegreeDays  \\\n",
            "0                                         NaN                     NaN   \n",
            "1                                         NaN                     NaN   \n",
            "2                                         NaN                     NaN   \n",
            "3                                         NaN                     NaN   \n",
            "4                                         NaN                     NaN   \n",
            "\n",
            "   DailyMaximumDryBulbTemperature  DailyMinimumDryBulbTemperature  \\\n",
            "0                             NaN                             NaN   \n",
            "1                             NaN                             NaN   \n",
            "2                             NaN                             NaN   \n",
            "3                             NaN                             NaN   \n",
            "4                             NaN                             NaN   \n",
            "\n",
            "   DailyPeakWindDirection  DailyPeakWindSpeed DailyPrecipitation  \\\n",
            "0                     NaN                 NaN                NaN   \n",
            "1                     NaN                 NaN                NaN   \n",
            "2                     NaN                 NaN                NaN   \n",
            "3                     NaN                 NaN                NaN   \n",
            "4                     NaN                 NaN                NaN   \n",
            "\n",
            "  DailySnowDepth DailySnowfall  DailySustainedWindDirection  \\\n",
            "0            NaN           NaN                          NaN   \n",
            "1            NaN           NaN                          NaN   \n",
            "2            NaN           NaN                          NaN   \n",
            "3            NaN           NaN                          NaN   \n",
            "4            NaN           NaN                          NaN   \n",
            "\n",
            "   DailySustainedWindSpeed DailyWeather  HDSD  HTDD HourlyAltimeterSetting  \\\n",
            "0                      NaN          NaN   NaN   NaN                  30.29   \n",
            "1                      NaN          NaN   NaN   NaN                    NaN   \n",
            "2                      NaN          NaN   NaN   NaN                  30.31   \n",
            "3                      NaN          NaN   NaN   NaN                  30.32   \n",
            "4                      NaN          NaN   NaN   NaN                  30.32   \n",
            "\n",
            "  HourlyDewPointTemperature HourlyDryBulbTemperature HourlyPrecipitation  \\\n",
            "0                      11.0                       26                0.00   \n",
            "1                      11.0                       26                 NaN   \n",
            "2                       9.0                       25                0.00   \n",
            "3                       7.0                       24                 NaN   \n",
            "4                       7.0                       23                0.00   \n",
            "\n",
            "  HourlyPresentWeatherType  HourlyPressureChange  HourlyPressureTendency  \\\n",
            "0                      NaN                 -0.03                     1.0   \n",
            "1                      NaN                 -0.03                     1.0   \n",
            "2                      NaN                   NaN                     NaN   \n",
            "3                      NaN                   NaN                     NaN   \n",
            "4                      NaN                   NaN                     NaN   \n",
            "\n",
            "   HourlyRelativeHumidity HourlySeaLevelPressure  HourlySkyConditions  \\\n",
            "0                    53.0                  30.32            OVC:08 28   \n",
            "1                    53.0                  30.32                   26   \n",
            "2                    50.0                  30.35            OVC:08 26   \n",
            "3                    48.0                    NaN  SCT:04 29 OVC:08 35   \n",
            "4                    50.0                  30.36  FEW:02 29 OVC:08 35   \n",
            "\n",
            "  HourlyStationPressure HourlyVisibility  HourlyWetBulbTemperature  \\\n",
            "0                 29.18            10.00                      22.0   \n",
            "1                 29.18             9.94                      22.0   \n",
            "2                 29.21            10.00                      21.0   \n",
            "3                 29.21            10.00                      19.0   \n",
            "4                 29.21            10.00                      19.0   \n",
            "\n",
            "  HourlyWindDirection  HourlyWindGustSpeed  HourlyWindSpeed  MonthlyAverageRH  \\\n",
            "0                 340                 25.0             15.0               NaN   \n",
            "1                 340                  NaN             15.0               NaN   \n",
            "2                 320                  NaN             17.0               NaN   \n",
            "3                 340                  NaN             14.0               NaN   \n",
            "4                 330                  NaN             16.0               NaN   \n",
            "\n",
            "   MonthlyDaysWithGT001Precip  MonthlyDaysWithGT010Precip  \\\n",
            "0                         NaN                         NaN   \n",
            "1                         NaN                         NaN   \n",
            "2                         NaN                         NaN   \n",
            "3                         NaN                         NaN   \n",
            "4                         NaN                         NaN   \n",
            "\n",
            "   MonthlyDaysWithGT32Temp  MonthlyDaysWithGT90Temp  MonthlyDaysWithLT0Temp  \\\n",
            "0                      NaN                      NaN                     NaN   \n",
            "1                      NaN                      NaN                     NaN   \n",
            "2                      NaN                      NaN                     NaN   \n",
            "3                      NaN                      NaN                     NaN   \n",
            "4                      NaN                      NaN                     NaN   \n",
            "\n",
            "   MonthlyDaysWithLT32Temp  MonthlyDepartureFromNormalAverageTemperature  \\\n",
            "0                      NaN                                           NaN   \n",
            "1                      NaN                                           NaN   \n",
            "2                      NaN                                           NaN   \n",
            "3                      NaN                                           NaN   \n",
            "4                      NaN                                           NaN   \n",
            "\n",
            "   MonthlyDepartureFromNormalCoolingDegreeDays  \\\n",
            "0                                          NaN   \n",
            "1                                          NaN   \n",
            "2                                          NaN   \n",
            "3                                          NaN   \n",
            "4                                          NaN   \n",
            "\n",
            "   MonthlyDepartureFromNormalHeatingDegreeDays  \\\n",
            "0                                          NaN   \n",
            "1                                          NaN   \n",
            "2                                          NaN   \n",
            "3                                          NaN   \n",
            "4                                          NaN   \n",
            "\n",
            "   MonthlyDepartureFromNormalMaximumTemperature  \\\n",
            "0                                           NaN   \n",
            "1                                           NaN   \n",
            "2                                           NaN   \n",
            "3                                           NaN   \n",
            "4                                           NaN   \n",
            "\n",
            "   MonthlyDepartureFromNormalMinimumTemperature  \\\n",
            "0                                           NaN   \n",
            "1                                           NaN   \n",
            "2                                           NaN   \n",
            "3                                           NaN   \n",
            "4                                           NaN   \n",
            "\n",
            "   MonthlyDepartureFromNormalPrecipitation  MonthlyDewpointTemperature  \\\n",
            "0                                      NaN                         NaN   \n",
            "1                                      NaN                         NaN   \n",
            "2                                      NaN                         NaN   \n",
            "3                                      NaN                         NaN   \n",
            "4                                      NaN                         NaN   \n",
            "\n",
            "   MonthlyGreatestPrecip MonthlyGreatestPrecipDate MonthlyGreatestSnowDepth  \\\n",
            "0                    NaN                       NaN                      NaN   \n",
            "1                    NaN                       NaN                      NaN   \n",
            "2                    NaN                       NaN                      NaN   \n",
            "3                    NaN                       NaN                      NaN   \n",
            "4                    NaN                       NaN                      NaN   \n",
            "\n",
            "   MonthlyGreatestSnowDepthDate MonthlyGreatestSnowfall  \\\n",
            "0                           NaN                     NaN   \n",
            "1                           NaN                     NaN   \n",
            "2                           NaN                     NaN   \n",
            "3                           NaN                     NaN   \n",
            "4                           NaN                     NaN   \n",
            "\n",
            "  MonthlyGreatestSnowfallDate  MonthlyMaxSeaLevelPressureValue  \\\n",
            "0                         NaN                              NaN   \n",
            "1                         NaN                              NaN   \n",
            "2                         NaN                              NaN   \n",
            "3                         NaN                              NaN   \n",
            "4                         NaN                              NaN   \n",
            "\n",
            "   MonthlyMaxSeaLevelPressureValueDate  MonthlyMaxSeaLevelPressureValueTime  \\\n",
            "0                                  NaN                                  NaN   \n",
            "1                                  NaN                                  NaN   \n",
            "2                                  NaN                                  NaN   \n",
            "3                                  NaN                                  NaN   \n",
            "4                                  NaN                                  NaN   \n",
            "\n",
            "   MonthlyMaximumTemperature  MonthlyMeanTemperature  \\\n",
            "0                        NaN                     NaN   \n",
            "1                        NaN                     NaN   \n",
            "2                        NaN                     NaN   \n",
            "3                        NaN                     NaN   \n",
            "4                        NaN                     NaN   \n",
            "\n",
            "   MonthlyMinSeaLevelPressureValue  MonthlyMinSeaLevelPressureValueDate  \\\n",
            "0                              NaN                                  NaN   \n",
            "1                              NaN                                  NaN   \n",
            "2                              NaN                                  NaN   \n",
            "3                              NaN                                  NaN   \n",
            "4                              NaN                                  NaN   \n",
            "\n",
            "   MonthlyMinSeaLevelPressureValueTime  MonthlyMinimumTemperature  \\\n",
            "0                                  NaN                        NaN   \n",
            "1                                  NaN                        NaN   \n",
            "2                                  NaN                        NaN   \n",
            "3                                  NaN                        NaN   \n",
            "4                                  NaN                        NaN   \n",
            "\n",
            "   MonthlySeaLevelPressure  MonthlyStationPressure  \\\n",
            "0                      NaN                     NaN   \n",
            "1                      NaN                     NaN   \n",
            "2                      NaN                     NaN   \n",
            "3                      NaN                     NaN   \n",
            "4                      NaN                     NaN   \n",
            "\n",
            "   MonthlyTotalLiquidPrecipitation MonthlyTotalSnowfall  MonthlyWetBulb  \\\n",
            "0                              NaN                  NaN             NaN   \n",
            "1                              NaN                  NaN             NaN   \n",
            "2                              NaN                  NaN             NaN   \n",
            "3                              NaN                  NaN             NaN   \n",
            "4                              NaN                  NaN             NaN   \n",
            "\n",
            "   NormalsCoolingDegreeDay  NormalsHeatingDegreeDay  \\\n",
            "0                      NaN                      NaN   \n",
            "1                      NaN                      NaN   \n",
            "2                      NaN                      NaN   \n",
            "3                      NaN                      NaN   \n",
            "4                      NaN                      NaN   \n",
            "\n",
            "                                                 REM REPORT_TYPE.1  SOURCE.1  \\\n",
            "0  MET12201/01/18 00:52:02 METAR KATL 010552Z 340...         FM-15         7   \n",
            "1  SYN08672219 32566 83413 11033 21117 39880 4026...         FM-12         4   \n",
            "2  MET10001/01/18 01:52:02 METAR KATL 010652Z 320...         FM-15         7   \n",
            "3  MET10001/01/18 02:34:02 SPECI KATL 010734Z 340...         FM-16         7   \n",
            "4  MET10701/01/18 02:52:02 METAR KATL 010752Z 330...         FM-15         7   \n",
            "\n",
            "  ShortDurationEndDate005 ShortDurationEndDate010 ShortDurationEndDate015  \\\n",
            "0                     NaN                     NaN                     NaN   \n",
            "1                     NaN                     NaN                     NaN   \n",
            "2                     NaN                     NaN                     NaN   \n",
            "3                     NaN                     NaN                     NaN   \n",
            "4                     NaN                     NaN                     NaN   \n",
            "\n",
            "  ShortDurationEndDate020 ShortDurationEndDate030 ShortDurationEndDate045  \\\n",
            "0                     NaN                     NaN                     NaN   \n",
            "1                     NaN                     NaN                     NaN   \n",
            "2                     NaN                     NaN                     NaN   \n",
            "3                     NaN                     NaN                     NaN   \n",
            "4                     NaN                     NaN                     NaN   \n",
            "\n",
            "  ShortDurationEndDate060 ShortDurationEndDate080 ShortDurationEndDate100  \\\n",
            "0                     NaN                     NaN                     NaN   \n",
            "1                     NaN                     NaN                     NaN   \n",
            "2                     NaN                     NaN                     NaN   \n",
            "3                     NaN                     NaN                     NaN   \n",
            "4                     NaN                     NaN                     NaN   \n",
            "\n",
            "  ShortDurationEndDate120 ShortDurationEndDate150 ShortDurationEndDate180  \\\n",
            "0                     NaN                     NaN                     NaN   \n",
            "1                     NaN                     NaN                     NaN   \n",
            "2                     NaN                     NaN                     NaN   \n",
            "3                     NaN                     NaN                     NaN   \n",
            "4                     NaN                     NaN                     NaN   \n",
            "\n",
            "   ShortDurationPrecipitationValue005  ShortDurationPrecipitationValue010  \\\n",
            "0                                 NaN                                 NaN   \n",
            "1                                 NaN                                 NaN   \n",
            "2                                 NaN                                 NaN   \n",
            "3                                 NaN                                 NaN   \n",
            "4                                 NaN                                 NaN   \n",
            "\n",
            "   ShortDurationPrecipitationValue015  ShortDurationPrecipitationValue020  \\\n",
            "0                                 NaN                                 NaN   \n",
            "1                                 NaN                                 NaN   \n",
            "2                                 NaN                                 NaN   \n",
            "3                                 NaN                                 NaN   \n",
            "4                                 NaN                                 NaN   \n",
            "\n",
            "   ShortDurationPrecipitationValue030  ShortDurationPrecipitationValue045  \\\n",
            "0                                 NaN                                 NaN   \n",
            "1                                 NaN                                 NaN   \n",
            "2                                 NaN                                 NaN   \n",
            "3                                 NaN                                 NaN   \n",
            "4                                 NaN                                 NaN   \n",
            "\n",
            "   ShortDurationPrecipitationValue060  ShortDurationPrecipitationValue080  \\\n",
            "0                                 NaN                                 NaN   \n",
            "1                                 NaN                                 NaN   \n",
            "2                                 NaN                                 NaN   \n",
            "3                                 NaN                                 NaN   \n",
            "4                                 NaN                                 NaN   \n",
            "\n",
            "   ShortDurationPrecipitationValue100  ShortDurationPrecipitationValue120  \\\n",
            "0                                 NaN                                 NaN   \n",
            "1                                 NaN                                 NaN   \n",
            "2                                 NaN                                 NaN   \n",
            "3                                 NaN                                 NaN   \n",
            "4                                 NaN                                 NaN   \n",
            "\n",
            "   ShortDurationPrecipitationValue150  ShortDurationPrecipitationValue180  \\\n",
            "0                                 NaN                                 NaN   \n",
            "1                                 NaN                                 NaN   \n",
            "2                                 NaN                                 NaN   \n",
            "3                                 NaN                                 NaN   \n",
            "4                                 NaN                                 NaN   \n",
            "\n",
            "   Sunrise  Sunset WindEquipmentChangeDate  \n",
            "0      NaN     NaN              2007-03-27  \n",
            "1      NaN     NaN              2007-03-27  \n",
            "2      NaN     NaN              2007-03-27  \n",
            "3      NaN     NaN              2007-03-27  \n",
            "4      NaN     NaN              2007-03-27  \n",
            "(62937, 124)\n"
          ]
        }
      ]
    },
    {
      "cell_type": "code",
      "source": [
        "## Alternatively, you can just print the column names\n",
        "print(data.columns.tolist())"
      ],
      "metadata": {
        "colab": {
          "base_uri": "https://localhost:8080/"
        },
        "id": "RKwxpDVTLAoT",
        "outputId": "28bdcd68-565e-4dd2-8308-630d43fc3fe6"
      },
      "execution_count": null,
      "outputs": [
        {
          "output_type": "stream",
          "name": "stdout",
          "text": [
            "['STATION', 'DATE', 'REPORT_TYPE', 'SOURCE', 'AWND', 'BackupDirection', 'BackupDistance', 'BackupDistanceUnit', 'BackupElements', 'BackupElevation', 'BackupElevationUnit', 'BackupEquipment', 'BackupLatitude', 'BackupLongitude', 'BackupName', 'CDSD', 'CLDD', 'DSNW', 'DYHF', 'DYTS', 'DailyAverageDewPointTemperature', 'DailyAverageDryBulbTemperature', 'DailyAverageRelativeHumidity', 'DailyAverageSeaLevelPressure', 'DailyAverageStationPressure', 'DailyAverageWetBulbTemperature', 'DailyAverageWindSpeed', 'DailyCoolingDegreeDays', 'DailyDepartureFromNormalAverageTemperature', 'DailyHeatingDegreeDays', 'DailyMaximumDryBulbTemperature', 'DailyMinimumDryBulbTemperature', 'DailyPeakWindDirection', 'DailyPeakWindSpeed', 'DailyPrecipitation', 'DailySnowDepth', 'DailySnowfall', 'DailySustainedWindDirection', 'DailySustainedWindSpeed', 'DailyWeather', 'HDSD', 'HTDD', 'HourlyAltimeterSetting', 'HourlyDewPointTemperature', 'HourlyDryBulbTemperature', 'HourlyPrecipitation', 'HourlyPresentWeatherType', 'HourlyPressureChange', 'HourlyPressureTendency', 'HourlyRelativeHumidity', 'HourlySeaLevelPressure', 'HourlySkyConditions', 'HourlyStationPressure', 'HourlyVisibility', 'HourlyWetBulbTemperature', 'HourlyWindDirection', 'HourlyWindGustSpeed', 'HourlyWindSpeed', 'MonthlyAverageRH', 'MonthlyDaysWithGT001Precip', 'MonthlyDaysWithGT010Precip', 'MonthlyDaysWithGT32Temp', 'MonthlyDaysWithGT90Temp', 'MonthlyDaysWithLT0Temp', 'MonthlyDaysWithLT32Temp', 'MonthlyDepartureFromNormalAverageTemperature', 'MonthlyDepartureFromNormalCoolingDegreeDays', 'MonthlyDepartureFromNormalHeatingDegreeDays', 'MonthlyDepartureFromNormalMaximumTemperature', 'MonthlyDepartureFromNormalMinimumTemperature', 'MonthlyDepartureFromNormalPrecipitation', 'MonthlyDewpointTemperature', 'MonthlyGreatestPrecip', 'MonthlyGreatestPrecipDate', 'MonthlyGreatestSnowDepth', 'MonthlyGreatestSnowDepthDate', 'MonthlyGreatestSnowfall', 'MonthlyGreatestSnowfallDate', 'MonthlyMaxSeaLevelPressureValue', 'MonthlyMaxSeaLevelPressureValueDate', 'MonthlyMaxSeaLevelPressureValueTime', 'MonthlyMaximumTemperature', 'MonthlyMeanTemperature', 'MonthlyMinSeaLevelPressureValue', 'MonthlyMinSeaLevelPressureValueDate', 'MonthlyMinSeaLevelPressureValueTime', 'MonthlyMinimumTemperature', 'MonthlySeaLevelPressure', 'MonthlyStationPressure', 'MonthlyTotalLiquidPrecipitation', 'MonthlyTotalSnowfall', 'MonthlyWetBulb', 'NormalsCoolingDegreeDay', 'NormalsHeatingDegreeDay', 'REM', 'REPORT_TYPE.1', 'SOURCE.1', 'ShortDurationEndDate005', 'ShortDurationEndDate010', 'ShortDurationEndDate015', 'ShortDurationEndDate020', 'ShortDurationEndDate030', 'ShortDurationEndDate045', 'ShortDurationEndDate060', 'ShortDurationEndDate080', 'ShortDurationEndDate100', 'ShortDurationEndDate120', 'ShortDurationEndDate150', 'ShortDurationEndDate180', 'ShortDurationPrecipitationValue005', 'ShortDurationPrecipitationValue010', 'ShortDurationPrecipitationValue015', 'ShortDurationPrecipitationValue020', 'ShortDurationPrecipitationValue030', 'ShortDurationPrecipitationValue045', 'ShortDurationPrecipitationValue060', 'ShortDurationPrecipitationValue080', 'ShortDurationPrecipitationValue100', 'ShortDurationPrecipitationValue120', 'ShortDurationPrecipitationValue150', 'ShortDurationPrecipitationValue180', 'Sunrise', 'Sunset', 'WindEquipmentChangeDate']\n"
          ]
        }
      ]
    },
    {
      "cell_type": "markdown",
      "source": [
        "From running pandas.head(), we can see that we have 124 columns to work with. Thankfully, for our purposes we won't be needing to use all of those columns, so we'll start removing the irrelevant ones."
      ],
      "metadata": {
        "id": "obnHxu9MEjZa"
      }
    },
    {
      "cell_type": "code",
      "source": [
        "## Note that the dataset contains columns for hourly, daily, and monthly recordings\n",
        "## Since we only want monthly data, we'll drop the rest of the columns\n",
        "## Additionally, we'll drop all columns with NaN (not a number) values for monthly recordings\n",
        "\n",
        "\n",
        "## Because we have less columns we want to keep than drop, we'll use .loc to preserve the columns we want\n",
        "# usually to drop specific columns you would use .drop()\n",
        "data = data[['DATE','MonthlyDewpointTemperature', 'MonthlyDaysWithGT001Precip', 'MonthlyDaysWithGT010Precip', 'MonthlyDaysWithGT32Temp', 'MonthlyDaysWithGT90Temp', 'MonthlyDaysWithLT0Temp', 'MonthlyDaysWithLT32Temp', 'MonthlyDepartureFromNormalAverageTemperature', 'MonthlyDepartureFromNormalCoolingDegreeDays', 'MonthlyDepartureFromNormalHeatingDegreeDays', 'MonthlyDepartureFromNormalMaximumTemperature', 'MonthlyDepartureFromNormalMinimumTemperature', 'MonthlyMaxSeaLevelPressureValue', 'MonthlyMaximumTemperature', 'MonthlyMeanTemperature', 'MonthlyMinSeaLevelPressureValue', 'MonthlyMinimumTemperature', 'MonthlySeaLevelPressure', 'MonthlyStationPressure', 'MonthlyTotalLiquidPrecipitation']]\n",
        "\n",
        "## [LIVE] How can we drop all the rows prior to the monthly measurements?\n",
        "\n",
        "print(data.head())\n",
        "\n",
        "## [LIVE] What should we do for a column with a lot of NaNs?\n",
        "dpmap = {'MonthlyDewpointTemperature': ??????}\n",
        "data.fillna(value= ?????? , inplace=True)\n",
        "print(data.head())\n",
        "\n",
        "## [LIVE] Remove 'MonthlyDewpointTemperature' column, since it's mostly/all NaNs\n",
        "\n",
        "print(data.head())"
      ],
      "metadata": {
        "colab": {
          "base_uri": "https://localhost:8080/"
        },
        "id": "JfsSGISOFDlO",
        "outputId": "93d36703-39e7-4a1a-b746-8bed123c4e7a"
      },
      "execution_count": null,
      "outputs": [
        {
          "output_type": "stream",
          "name": "stdout",
          "text": [
            "                     DATE  MonthlyDaysWithGT001Precip  \\\n",
            "1053  2018-01-31T23:59:00                         9.0   \n",
            "2171  2018-02-28T23:59:00                        18.0   \n",
            "3237  2018-03-31T23:59:00                        10.0   \n",
            "4293  2018-04-30T23:59:00                         9.0   \n",
            "5438  2018-05-31T23:59:00                        15.0   \n",
            "\n",
            "      MonthlyDaysWithGT010Precip  MonthlyDaysWithGT32Temp  \\\n",
            "1053                         5.0                     19.0   \n",
            "2171                         8.0                      2.0   \n",
            "3237                         8.0                      2.0   \n",
            "4293                         6.0                      0.0   \n",
            "5438                         9.0                      0.0   \n",
            "\n",
            "      MonthlyDaysWithGT90Temp  MonthlyDaysWithLT0Temp  \\\n",
            "1053                      0.0                     0.0   \n",
            "2171                      0.0                     0.0   \n",
            "3237                      0.0                     0.0   \n",
            "4293                      0.0                     0.0   \n",
            "5438                      3.0                     0.0   \n",
            "\n",
            "      MonthlyDaysWithLT32Temp  MonthlyDepartureFromNormalAverageTemperature  \\\n",
            "1053                      2.0                                          -2.9   \n",
            "2171                      0.0                                          10.1   \n",
            "3237                      0.0                                          -0.8   \n",
            "4293                      0.0                                          -2.2   \n",
            "5438                      0.0                                           4.7   \n",
            "\n",
            "      MonthlyDepartureFromNormalCoolingDegreeDays  \\\n",
            "1053                                          0.0   \n",
            "2171                                         25.0   \n",
            "3237                                         -9.0   \n",
            "4293                                        -35.0   \n",
            "5438                                        121.0   \n",
            "\n",
            "      MonthlyDepartureFromNormalHeatingDegreeDays  \\\n",
            "1053                                         88.0   \n",
            "2171                                       -260.0   \n",
            "3237                                         18.0   \n",
            "4293                                         32.0   \n",
            "5438                                        -26.0   \n",
            "\n",
            "      MonthlyDepartureFromNormalMaximumTemperature  \\\n",
            "1053                                          -2.2   \n",
            "2171                                           9.1   \n",
            "3237                                          -1.4   \n",
            "4293                                          -2.0   \n",
            "5438                                           3.9   \n",
            "\n",
            "      MonthlyDepartureFromNormalMinimumTemperature  \\\n",
            "1053                                          -3.6   \n",
            "2171                                          11.2   \n",
            "3237                                          -0.4   \n",
            "4293                                          -2.5   \n",
            "5438                                           5.6   \n",
            "\n",
            "      MonthlyMaxSeaLevelPressureValue  MonthlyMaximumTemperature  \\\n",
            "1053                            30.63                       50.1   \n",
            "2171                            30.61                       65.7   \n",
            "3237                            30.48                       63.2   \n",
            "4293                            30.36                       70.5   \n",
            "5438                            30.32                       83.8   \n",
            "\n",
            "      MonthlyMeanTemperature  MonthlyMinSeaLevelPressureValue  \\\n",
            "1053                    40.4                            29.64   \n",
            "2171                    57.3                            29.88   \n",
            "3237                    53.5                            29.48   \n",
            "4293                    59.8                            29.70   \n",
            "5438                    74.8                            29.75   \n",
            "\n",
            "      MonthlyMinimumTemperature  MonthlySeaLevelPressure  \\\n",
            "1053                       30.7                    30.28   \n",
            "2171                       48.9                    30.23   \n",
            "3237                       43.7                    30.04   \n",
            "4293                       49.0                    30.02   \n",
            "5438                       65.9                    30.02   \n",
            "\n",
            "      MonthlyStationPressure  MonthlyTotalLiquidPrecipitation  \n",
            "1053                   29.15                             3.26  \n",
            "2171                   29.13                             6.11  \n",
            "3237                   28.94                             4.86  \n",
            "4293                   29.14                             6.53  \n",
            "5438                   28.95                             4.45  \n"
          ]
        },
        {
          "output_type": "stream",
          "name": "stderr",
          "text": [
            "<ipython-input-7-54e27bf80413>:15: SettingWithCopyWarning: \n",
            "A value is trying to be set on a copy of a slice from a DataFrame\n",
            "\n",
            "See the caveats in the documentation: https://pandas.pydata.org/pandas-docs/stable/user_guide/indexing.html#returning-a-view-versus-a-copy\n",
            "  data.fillna(value=-1, inplace=True)\n"
          ]
        }
      ]
    },
    {
      "cell_type": "code",
      "source": [
        "print(data.shape)"
      ],
      "metadata": {
        "colab": {
          "base_uri": "https://localhost:8080/"
        },
        "id": "l6PM-eT2Mq1L",
        "outputId": "cb8b1a02-53f3-4033-f586-4a80614ed762"
      },
      "execution_count": null,
      "outputs": [
        {
          "output_type": "stream",
          "name": "stdout",
          "text": [
            "(60, 20)\n"
          ]
        }
      ]
    },
    {
      "cell_type": "markdown",
      "source": [
        "Next, we'll combine the columns 'MonthlyDaysWithGT001Precip' and 'MonthlyDaysWithGT010Precip' to give us the total number of rainy days per month."
      ],
      "metadata": {
        "id": "v-SxBxkygqEM"
      }
    },
    {
      "cell_type": "code",
      "source": [
        "## [LIVE] First, we'll insert a new column to store the sum:\n",
        "data.insert(1, \"MonthlyDaysWithPrecip\", ??????)\n",
        "\n",
        "## Now we can drop the columns we just added since we don't need them anymore:\n",
        "data = data.drop(columns=['MonthlyDaysWithGT001Precip', 'MonthlyDaysWithGT010Precip'])\n",
        "\n",
        "print(data.head())"
      ],
      "metadata": {
        "colab": {
          "base_uri": "https://localhost:8080/"
        },
        "id": "xTeoHCYNgm_F",
        "outputId": "1fbb9e7b-3900-41a8-95df-096a108886c6"
      },
      "execution_count": null,
      "outputs": [
        {
          "output_type": "stream",
          "name": "stdout",
          "text": [
            "                     DATE  MonthlyDaysWithPrecip  MonthlyDaysWithGT32Temp  \\\n",
            "1053  2018-01-31T23:59:00                   14.0                     19.0   \n",
            "2171  2018-02-28T23:59:00                   26.0                      2.0   \n",
            "3237  2018-03-31T23:59:00                   18.0                      2.0   \n",
            "4293  2018-04-30T23:59:00                   15.0                      0.0   \n",
            "5438  2018-05-31T23:59:00                   24.0                      0.0   \n",
            "\n",
            "      MonthlyDaysWithGT90Temp  MonthlyDaysWithLT0Temp  \\\n",
            "1053                      0.0                     0.0   \n",
            "2171                      0.0                     0.0   \n",
            "3237                      0.0                     0.0   \n",
            "4293                      0.0                     0.0   \n",
            "5438                      3.0                     0.0   \n",
            "\n",
            "      MonthlyDaysWithLT32Temp  MonthlyDepartureFromNormalAverageTemperature  \\\n",
            "1053                      2.0                                          -2.9   \n",
            "2171                      0.0                                          10.1   \n",
            "3237                      0.0                                          -0.8   \n",
            "4293                      0.0                                          -2.2   \n",
            "5438                      0.0                                           4.7   \n",
            "\n",
            "      MonthlyDepartureFromNormalCoolingDegreeDays  \\\n",
            "1053                                          0.0   \n",
            "2171                                         25.0   \n",
            "3237                                         -9.0   \n",
            "4293                                        -35.0   \n",
            "5438                                        121.0   \n",
            "\n",
            "      MonthlyDepartureFromNormalHeatingDegreeDays  \\\n",
            "1053                                         88.0   \n",
            "2171                                       -260.0   \n",
            "3237                                         18.0   \n",
            "4293                                         32.0   \n",
            "5438                                        -26.0   \n",
            "\n",
            "      MonthlyDepartureFromNormalMaximumTemperature  \\\n",
            "1053                                          -2.2   \n",
            "2171                                           9.1   \n",
            "3237                                          -1.4   \n",
            "4293                                          -2.0   \n",
            "5438                                           3.9   \n",
            "\n",
            "      MonthlyDepartureFromNormalMinimumTemperature  \\\n",
            "1053                                          -3.6   \n",
            "2171                                          11.2   \n",
            "3237                                          -0.4   \n",
            "4293                                          -2.5   \n",
            "5438                                           5.6   \n",
            "\n",
            "      MonthlyMaxSeaLevelPressureValue  MonthlyMaximumTemperature  \\\n",
            "1053                            30.63                       50.1   \n",
            "2171                            30.61                       65.7   \n",
            "3237                            30.48                       63.2   \n",
            "4293                            30.36                       70.5   \n",
            "5438                            30.32                       83.8   \n",
            "\n",
            "      MonthlyMeanTemperature  MonthlyMinSeaLevelPressureValue  \\\n",
            "1053                    40.4                            29.64   \n",
            "2171                    57.3                            29.88   \n",
            "3237                    53.5                            29.48   \n",
            "4293                    59.8                            29.70   \n",
            "5438                    74.8                            29.75   \n",
            "\n",
            "      MonthlyMinimumTemperature  MonthlySeaLevelPressure  \\\n",
            "1053                       30.7                    30.28   \n",
            "2171                       48.9                    30.23   \n",
            "3237                       43.7                    30.04   \n",
            "4293                       49.0                    30.02   \n",
            "5438                       65.9                    30.02   \n",
            "\n",
            "      MonthlyStationPressure  MonthlyTotalLiquidPrecipitation  \n",
            "1053                   29.15                             3.26  \n",
            "2171                   29.13                             6.11  \n",
            "3237                   28.94                             4.86  \n",
            "4293                   29.14                             6.53  \n",
            "5438                   28.95                             4.45  \n"
          ]
        }
      ]
    },
    {
      "cell_type": "markdown",
      "source": [
        "#### One Hot Encoding\n",
        "Now, we come to the question of what to do with our 'DATE' column. It's a string datatype that includes the year, month, day, hour, and minute at which the measurement was taken. Since all we want to know is the month, we'll first need to extract the specific indices of the string that correspond to month. After this, we'll use a principle known as one hot encoding to create columns corresponding to each month. Each columns which will store a boolean value indicating 1 if the date corresponds to the month, and 0 otherwise."
      ],
      "metadata": {
        "id": "ReFg9Tb1lBZ1"
      }
    },
    {
      "cell_type": "code",
      "source": [
        "## slicing 'DATE' column\n",
        "data['DATE'] = data['DATE'].str.slice(start=5, stop=7)\n",
        "\n",
        "print(data['DATE'].head())"
      ],
      "metadata": {
        "colab": {
          "base_uri": "https://localhost:8080/"
        },
        "id": "u7KysFlEmiuC",
        "outputId": "10004b12-e339-4489-ceed-f3d591996f1d"
      },
      "execution_count": null,
      "outputs": [
        {
          "output_type": "stream",
          "name": "stdout",
          "text": [
            "1053    01\n",
            "2171    02\n",
            "3237    03\n",
            "4293    04\n",
            "5438    05\n",
            "Name: DATE, dtype: object\n"
          ]
        }
      ]
    },
    {
      "cell_type": "code",
      "source": [
        "## One Hot Encoding\n",
        "\n",
        "data = pd.get_dummies(data, columns=['DATE'])\n",
        "print(data.head())"
      ],
      "metadata": {
        "colab": {
          "base_uri": "https://localhost:8080/"
        },
        "id": "yrb6SC6wnZKS",
        "outputId": "02b88026-08a3-4244-b204-5aa196b399a8"
      },
      "execution_count": null,
      "outputs": [
        {
          "output_type": "stream",
          "name": "stdout",
          "text": [
            "      MonthlyDaysWithPrecip  MonthlyDaysWithGT32Temp  MonthlyDaysWithGT90Temp  \\\n",
            "1053                   14.0                     19.0                      0.0   \n",
            "2171                   26.0                      2.0                      0.0   \n",
            "3237                   18.0                      2.0                      0.0   \n",
            "4293                   15.0                      0.0                      0.0   \n",
            "5438                   24.0                      0.0                      3.0   \n",
            "\n",
            "      MonthlyDaysWithLT0Temp  MonthlyDaysWithLT32Temp  \\\n",
            "1053                     0.0                      2.0   \n",
            "2171                     0.0                      0.0   \n",
            "3237                     0.0                      0.0   \n",
            "4293                     0.0                      0.0   \n",
            "5438                     0.0                      0.0   \n",
            "\n",
            "      MonthlyDepartureFromNormalAverageTemperature  \\\n",
            "1053                                          -2.9   \n",
            "2171                                          10.1   \n",
            "3237                                          -0.8   \n",
            "4293                                          -2.2   \n",
            "5438                                           4.7   \n",
            "\n",
            "      MonthlyDepartureFromNormalCoolingDegreeDays  \\\n",
            "1053                                          0.0   \n",
            "2171                                         25.0   \n",
            "3237                                         -9.0   \n",
            "4293                                        -35.0   \n",
            "5438                                        121.0   \n",
            "\n",
            "      MonthlyDepartureFromNormalHeatingDegreeDays  \\\n",
            "1053                                         88.0   \n",
            "2171                                       -260.0   \n",
            "3237                                         18.0   \n",
            "4293                                         32.0   \n",
            "5438                                        -26.0   \n",
            "\n",
            "      MonthlyDepartureFromNormalMaximumTemperature  \\\n",
            "1053                                          -2.2   \n",
            "2171                                           9.1   \n",
            "3237                                          -1.4   \n",
            "4293                                          -2.0   \n",
            "5438                                           3.9   \n",
            "\n",
            "      MonthlyDepartureFromNormalMinimumTemperature  \\\n",
            "1053                                          -3.6   \n",
            "2171                                          11.2   \n",
            "3237                                          -0.4   \n",
            "4293                                          -2.5   \n",
            "5438                                           5.6   \n",
            "\n",
            "      MonthlyMaxSeaLevelPressureValue  MonthlyMaximumTemperature  \\\n",
            "1053                            30.63                       50.1   \n",
            "2171                            30.61                       65.7   \n",
            "3237                            30.48                       63.2   \n",
            "4293                            30.36                       70.5   \n",
            "5438                            30.32                       83.8   \n",
            "\n",
            "      MonthlyMeanTemperature  MonthlyMinSeaLevelPressureValue  \\\n",
            "1053                    40.4                            29.64   \n",
            "2171                    57.3                            29.88   \n",
            "3237                    53.5                            29.48   \n",
            "4293                    59.8                            29.70   \n",
            "5438                    74.8                            29.75   \n",
            "\n",
            "      MonthlyMinimumTemperature  MonthlySeaLevelPressure  \\\n",
            "1053                       30.7                    30.28   \n",
            "2171                       48.9                    30.23   \n",
            "3237                       43.7                    30.04   \n",
            "4293                       49.0                    30.02   \n",
            "5438                       65.9                    30.02   \n",
            "\n",
            "      MonthlyStationPressure  MonthlyTotalLiquidPrecipitation  DATE_01  \\\n",
            "1053                   29.15                             3.26        1   \n",
            "2171                   29.13                             6.11        0   \n",
            "3237                   28.94                             4.86        0   \n",
            "4293                   29.14                             6.53        0   \n",
            "5438                   28.95                             4.45        0   \n",
            "\n",
            "      DATE_02  DATE_03  DATE_04  DATE_05  DATE_06  DATE_07  DATE_08  DATE_09  \\\n",
            "1053        0        0        0        0        0        0        0        0   \n",
            "2171        1        0        0        0        0        0        0        0   \n",
            "3237        0        1        0        0        0        0        0        0   \n",
            "4293        0        0        1        0        0        0        0        0   \n",
            "5438        0        0        0        1        0        0        0        0   \n",
            "\n",
            "      DATE_10  DATE_11  DATE_12  \n",
            "1053        0        0        0  \n",
            "2171        0        0        0  \n",
            "3237        0        0        0  \n",
            "4293        0        0        0  \n",
            "5438        0        0        0  \n"
          ]
        }
      ]
    },
    {
      "cell_type": "code",
      "source": [
        "print(data.shape)"
      ],
      "metadata": {
        "colab": {
          "base_uri": "https://localhost:8080/"
        },
        "id": "5JXe8lhgMhEF",
        "outputId": "cd8e6e63-23c3-4c3b-b3ce-462a5128a7cf"
      },
      "execution_count": null,
      "outputs": [
        {
          "output_type": "stream",
          "name": "stdout",
          "text": [
            "(60, 30)\n"
          ]
        }
      ]
    },
    {
      "cell_type": "markdown",
      "source": [
        "Now we're ready to move onto building the model using Pytorch!"
      ],
      "metadata": {
        "id": "LtCskMN63ZqJ"
      }
    },
    {
      "cell_type": "markdown",
      "source": [
        "## Building the Model with PyTorch"
      ],
      "metadata": {
        "id": "CqccQ-SjBrD0"
      }
    },
    {
      "cell_type": "markdown",
      "source": [
        "### But First, What's a Tensor?\n",
        "\n",
        "If you're familiar with Python, you might know about NumPy ndarrays (N-Dimensional Arrays) - these are very similar to tensors. Arrays and matrices are the foundation of machine learning and allow us to \"translate\" datasets into readable inputs/outputs and optimize predictions. We will be using tensors for the rest of this tutorial."
      ],
      "metadata": {
        "id": "s6V5Y5LFfKYh"
      }
    },
    {
      "cell_type": "markdown",
      "source": [
        "###Converting from Pandas Dataframe to Tensor"
      ],
      "metadata": {
        "id": "52D4FO8HGkdP"
      }
    },
    {
      "cell_type": "code",
      "source": [
        "## First, we need to convert our Pandas dataframe to a tensor.\n",
        "## Dataframes are made of Pandas objects called Series, which are enhanced versions of numpy ndarrays.\n",
        "## Since they have a similar structure, they can be converted to tensors using the .tensor() method.\n",
        "\n",
        "\n",
        "X = data.drop(columns = ['MonthlyDaysWithPrecip'])\n",
        "y = data['MonthlyDaysWithPrecip']\n",
        "X = torch.tensor(X.values)\n",
        "y = torch.tensor(y.values)\n",
        "\n",
        "X_train, X_test, y_train, y_test = train_test_split(X, y, test_size=0.33)"
      ],
      "metadata": {
        "id": "_C6Rj0-jD9A6"
      },
      "execution_count": null,
      "outputs": []
    },
    {
      "cell_type": "markdown",
      "source": [
        "### A High Level Overview of Neural Networks\n",
        "\n",
        "Artificial Neural Networks are inspired by the human brain, using nodes as \"neurons\" connected through a network of layers. The structure consists of 3 types of layers:\n",
        "<br><br>\n",
        "1.) input layer - first layer, processes and analyzes input data and passes it to the next layer\n",
        "\n",
        "2.) hidden layer(s) - analyzes the output of the previous layer and passes it on\n",
        "\n",
        "3.) output layer - gives final result/prediction\n",
        "\n",
        "Note: layers can have any number of nodes\n",
        "\n",
        "![simple-neural-network-graphic-Graphically-an-ANN-is-a-graph-figure-1-with-neurons.png](data:image/png;base64,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)\n",
        "\n",
        "<br><br>\n",
        "\n",
        "\n",
        "3 types of neural networks:\n",
        "\n",
        "1.) Feedforward algorithm - moves directly from input to output\n",
        "\n",
        "2.) Backpropogation algorithm - assigns ranks to multiple paths from each node, then moves backward to adjust rankings according to degree of error\n",
        "\n",
        "3.) Convolutional Neural Networks (CNNs) - each layer performs a function towards a specific feature in the data\n",
        "\n",
        "4.) Recurrent Neural Networks (RNNs) - meant for sequential data (time-dependent data that is influenced by previous data)"
      ],
      "metadata": {
        "id": "-RtHAnsrJw1a"
      }
    },
    {
      "cell_type": "markdown",
      "source": [
        "###Structure of a PyTorch Model\n",
        "\n",
        "If you remember our first workshop, you might remember that we defined our MLP classifier in just 1 line using sklearn:![Screenshot 2023-10-01 220634.png](data:image/png;base64,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)"
      ],
      "metadata": {
        "id": "ZZ2h5jg0IflF"
      }
    },
    {
      "cell_type": "markdown",
      "source": [
        "One of PyTorch's greatest advantages is that we can go beyond simple parameters and actually define each layer and layer type in addition to other components. We can also define exactly how the model should proceed with the order of computation."
      ],
      "metadata": {
        "id": "Ba05ARk3JHHK"
      }
    },
    {
      "cell_type": "code",
      "source": [
        "class NeuralNetwork(nn.Module):\n",
        "\n",
        "  ## The init function is basically a constructor for our neural network\n",
        "  def __init__(self):\n",
        "    super().__init__()\n",
        "\n",
        "    self.flattened = nn.Flatten()\n",
        "\n",
        "    self.l1 = torch.nn.Linear(29, 64) #matrix multiplication: ensure the m of mxn l1 matrix is the same size as n of mxn input matrix\n",
        "    self.l2 = torch.nn.Linear(64, 128)\n",
        "    self.act = torch.nn.ReLU() #activation function\n",
        "    #self.double()\n",
        "\n",
        "  ## Forward method does the actual computations, returns the output\n",
        "  ## x represents the data we're passing to the model\n",
        "  def forward(self, x):\n",
        "    x = self.l1(x)\n",
        "    x = self.act(x)\n",
        "    x = self.l2(x)\n",
        "\n",
        "    return x\n",
        "\n",
        "  ## After this, the next step is to create a training loop to train our model and subsequently test its predictions."
      ],
      "metadata": {
        "id": "OObF_Z44KGot"
      },
      "execution_count": null,
      "outputs": []
    }
  ]
}